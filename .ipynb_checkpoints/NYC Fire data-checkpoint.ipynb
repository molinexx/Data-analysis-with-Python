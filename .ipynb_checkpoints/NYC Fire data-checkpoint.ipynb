{
 "cells": [
  {
   "cell_type": "markdown",
   "metadata": {},
   "source": [
    "https://data.cityofnewyork.us/Public-Safety/Bureau-of-Fire-Investigations-Fire-Causes/ii3r-svjz"
   ]
  },
  {
   "cell_type": "code",
   "execution_count": 3,
   "metadata": {},
   "outputs": [],
   "source": [
    "import pandas as pd\n",
    "import numpy as np\n",
    "import datetime\n",
    "import matplotlib.pyplot as plt\n",
    "import seaborn as sns\n",
    "%matplotlib inline"
   ]
  },
  {
   "cell_type": "code",
   "execution_count": 4,
   "metadata": {},
   "outputs": [
    {
     "data": {
      "text/html": [
       "<div>\n",
       "<style scoped>\n",
       "    .dataframe tbody tr th:only-of-type {\n",
       "        vertical-align: middle;\n",
       "    }\n",
       "\n",
       "    .dataframe tbody tr th {\n",
       "        vertical-align: top;\n",
       "    }\n",
       "\n",
       "    .dataframe thead th {\n",
       "        text-align: right;\n",
       "    }\n",
       "</style>\n",
       "<table border=\"1\" class=\"dataframe\">\n",
       "  <thead>\n",
       "    <tr style=\"text-align: right;\">\n",
       "      <th></th>\n",
       "      <th>Case_Year</th>\n",
       "      <th>Incident_DateTime</th>\n",
       "      <th>Borough</th>\n",
       "      <th>Battalion</th>\n",
       "      <th>Community_District</th>\n",
       "      <th>Precinct</th>\n",
       "      <th>Incident_Classification</th>\n",
       "      <th>Cause_Fire_Description</th>\n",
       "      <th>Fire_Code_Category</th>\n",
       "    </tr>\n",
       "  </thead>\n",
       "  <tbody>\n",
       "    <tr>\n",
       "      <td>0</td>\n",
       "      <td>2016</td>\n",
       "      <td>01/01/2016 12:08:00 AM</td>\n",
       "      <td>Queens</td>\n",
       "      <td>50</td>\n",
       "      <td>08</td>\n",
       "      <td>107</td>\n",
       "      <td>MD Residential Structure</td>\n",
       "      <td>Smoking (Cigarette/Cigar)</td>\n",
       "      <td>Smoking</td>\n",
       "    </tr>\n",
       "    <tr>\n",
       "      <td>1</td>\n",
       "      <td>2016</td>\n",
       "      <td>01/01/2016 12:13:00 AM</td>\n",
       "      <td>Staten Island</td>\n",
       "      <td>21</td>\n",
       "      <td>02</td>\n",
       "      <td>122</td>\n",
       "      <td>PD Residential Structure</td>\n",
       "      <td>Incendiary - Combustible Material</td>\n",
       "      <td>Incendiary</td>\n",
       "    </tr>\n",
       "    <tr>\n",
       "      <td>2</td>\n",
       "      <td>2016</td>\n",
       "      <td>01/01/2016 12:21:00 AM</td>\n",
       "      <td>Queens</td>\n",
       "      <td>37</td>\n",
       "      <td>05</td>\n",
       "      <td>104</td>\n",
       "      <td>MD Residential Structure</td>\n",
       "      <td>Incendiary - Combustible Material</td>\n",
       "      <td>Incendiary</td>\n",
       "    </tr>\n",
       "    <tr>\n",
       "      <td>3</td>\n",
       "      <td>2016</td>\n",
       "      <td>01/01/2016 12:29:00 AM</td>\n",
       "      <td>Bronx</td>\n",
       "      <td>15</td>\n",
       "      <td>12</td>\n",
       "      <td>047</td>\n",
       "      <td>Burn Notification (Albany)</td>\n",
       "      <td>Albany Burn Notif. Unrelated to a Fire/Explosion</td>\n",
       "      <td>Other</td>\n",
       "    </tr>\n",
       "    <tr>\n",
       "      <td>4</td>\n",
       "      <td>2016</td>\n",
       "      <td>01/01/2016 12:32:00 AM</td>\n",
       "      <td>Queens</td>\n",
       "      <td>50</td>\n",
       "      <td>12</td>\n",
       "      <td>103</td>\n",
       "      <td>PD Residential Structure</td>\n",
       "      <td>Incendiary - Combustible Material</td>\n",
       "      <td>Incendiary</td>\n",
       "    </tr>\n",
       "    <tr>\n",
       "      <td>...</td>\n",
       "      <td>...</td>\n",
       "      <td>...</td>\n",
       "      <td>...</td>\n",
       "      <td>...</td>\n",
       "      <td>...</td>\n",
       "      <td>...</td>\n",
       "      <td>...</td>\n",
       "      <td>...</td>\n",
       "      <td>...</td>\n",
       "    </tr>\n",
       "    <tr>\n",
       "      <td>32514</td>\n",
       "      <td>2020</td>\n",
       "      <td>12/31/2020 10:44:19 AM</td>\n",
       "      <td>Queens</td>\n",
       "      <td>49</td>\n",
       "      <td>03</td>\n",
       "      <td>115</td>\n",
       "      <td>MD Residential Structure</td>\n",
       "      <td>Incendiary - Combustible Material</td>\n",
       "      <td>Incendiary</td>\n",
       "    </tr>\n",
       "    <tr>\n",
       "      <td>32515</td>\n",
       "      <td>2020</td>\n",
       "      <td>12/31/2020 12:57:07 PM</td>\n",
       "      <td>Queens</td>\n",
       "      <td>46</td>\n",
       "      <td>04</td>\n",
       "      <td>110</td>\n",
       "      <td>No Fire</td>\n",
       "      <td>Preliminary Investigation Only</td>\n",
       "      <td>Other</td>\n",
       "    </tr>\n",
       "    <tr>\n",
       "      <td>32516</td>\n",
       "      <td>2020</td>\n",
       "      <td>12/31/2020 01:10:30 PM</td>\n",
       "      <td>Queens</td>\n",
       "      <td>49</td>\n",
       "      <td>03</td>\n",
       "      <td>115</td>\n",
       "      <td>PD Residential Structure</td>\n",
       "      <td>Stove - Electric</td>\n",
       "      <td>Appliances</td>\n",
       "    </tr>\n",
       "    <tr>\n",
       "      <td>32517</td>\n",
       "      <td>2020</td>\n",
       "      <td>12/31/2020 02:50:01 PM</td>\n",
       "      <td>Manhattan</td>\n",
       "      <td>16</td>\n",
       "      <td>09</td>\n",
       "      <td>030</td>\n",
       "      <td>MD Residential Structure</td>\n",
       "      <td>Incense</td>\n",
       "      <td>Hot Objects</td>\n",
       "    </tr>\n",
       "    <tr>\n",
       "      <td>32518</td>\n",
       "      <td>2020</td>\n",
       "      <td>12/31/2020 03:22:44 PM</td>\n",
       "      <td>Staten Island</td>\n",
       "      <td>22</td>\n",
       "      <td>02</td>\n",
       "      <td>121</td>\n",
       "      <td>PD Residential Structure</td>\n",
       "      <td>Electrical Wiring</td>\n",
       "      <td>Electrical</td>\n",
       "    </tr>\n",
       "  </tbody>\n",
       "</table>\n",
       "<p>32519 rows × 9 columns</p>\n",
       "</div>"
      ],
      "text/plain": [
       "       Case_Year       Incident_DateTime        Borough Battalion  \\\n",
       "0           2016  01/01/2016 12:08:00 AM         Queens        50   \n",
       "1           2016  01/01/2016 12:13:00 AM  Staten Island        21   \n",
       "2           2016  01/01/2016 12:21:00 AM         Queens        37   \n",
       "3           2016  01/01/2016 12:29:00 AM          Bronx        15   \n",
       "4           2016  01/01/2016 12:32:00 AM         Queens        50   \n",
       "...          ...                     ...            ...       ...   \n",
       "32514       2020  12/31/2020 10:44:19 AM         Queens        49   \n",
       "32515       2020  12/31/2020 12:57:07 PM         Queens        46   \n",
       "32516       2020  12/31/2020 01:10:30 PM         Queens        49   \n",
       "32517       2020  12/31/2020 02:50:01 PM      Manhattan        16   \n",
       "32518       2020  12/31/2020 03:22:44 PM  Staten Island        22   \n",
       "\n",
       "      Community_District Precinct     Incident_Classification  \\\n",
       "0                     08      107    MD Residential Structure   \n",
       "1                     02      122    PD Residential Structure   \n",
       "2                     05      104    MD Residential Structure   \n",
       "3                     12      047  Burn Notification (Albany)   \n",
       "4                     12      103    PD Residential Structure   \n",
       "...                  ...      ...                         ...   \n",
       "32514                 03      115    MD Residential Structure   \n",
       "32515                 04      110                     No Fire   \n",
       "32516                 03      115    PD Residential Structure   \n",
       "32517                 09      030    MD Residential Structure   \n",
       "32518                 02      121    PD Residential Structure   \n",
       "\n",
       "                                 Cause_Fire_Description Fire_Code_Category  \n",
       "0                             Smoking (Cigarette/Cigar)            Smoking  \n",
       "1                     Incendiary - Combustible Material         Incendiary  \n",
       "2                     Incendiary - Combustible Material         Incendiary  \n",
       "3      Albany Burn Notif. Unrelated to a Fire/Explosion              Other  \n",
       "4                     Incendiary - Combustible Material         Incendiary  \n",
       "...                                                 ...                ...  \n",
       "32514                 Incendiary - Combustible Material         Incendiary  \n",
       "32515                    Preliminary Investigation Only              Other  \n",
       "32516                                  Stove - Electric         Appliances  \n",
       "32517                                           Incense        Hot Objects  \n",
       "32518                                 Electrical Wiring         Electrical  \n",
       "\n",
       "[32519 rows x 9 columns]"
      ]
     },
     "execution_count": 4,
     "metadata": {},
     "output_type": "execute_result"
    }
   ],
   "source": [
    "path = r\"C:\\Users\\Maryla\\Desktop\\MY_PROJECTS\\excel files\\Bureau_of_Fire_Investigations_-_Fire_Causes.csv\"\n",
    "fire = pd.read_csv(path)\n",
    "fire"
   ]
  },
  {
   "cell_type": "code",
   "execution_count": 31,
   "metadata": {},
   "outputs": [
    {
     "name": "stdout",
     "output_type": "stream",
     "text": [
      "<class 'pandas.core.frame.DataFrame'>\n",
      "RangeIndex: 32519 entries, 0 to 32518\n",
      "Data columns (total 9 columns):\n",
      "Case_Year                  32519 non-null int64\n",
      "Incident_DateTime          32519 non-null object\n",
      "Borough                    32407 non-null object\n",
      "Battalion                  29439 non-null object\n",
      "Community_District         32403 non-null object\n",
      "Precinct                   32408 non-null object\n",
      "Incident_Classification    31824 non-null object\n",
      "Cause_Fire_Description     32499 non-null object\n",
      "Fire_Code_Category         32510 non-null object\n",
      "dtypes: int64(1), object(8)\n",
      "memory usage: 2.2+ MB\n"
     ]
    }
   ],
   "source": [
    "fire.info()"
   ]
  },
  {
   "cell_type": "code",
   "execution_count": 32,
   "metadata": {},
   "outputs": [
    {
     "data": {
      "text/plain": [
       "Case_Year                    0\n",
       "Incident_DateTime            0\n",
       "Borough                      0\n",
       "Battalion                  720\n",
       "Community_District           0\n",
       "Precinct                     0\n",
       "Incident_Classification      2\n",
       "Cause_Fire_Description       0\n",
       "Fire_Code_Category           1\n",
       "dtype: int64"
      ]
     },
     "execution_count": 32,
     "metadata": {},
     "output_type": "execute_result"
    }
   ],
   "source": [
    "fire_2020.isnull().sum()"
   ]
  },
  {
   "cell_type": "code",
   "execution_count": 21,
   "metadata": {},
   "outputs": [
    {
     "data": {
      "text/plain": [
       "[['Case_Year',\n",
       "  'Incident_DateTime',\n",
       "  'Borough',\n",
       "  'Battalion',\n",
       "  'Community_District',\n",
       "  'Precinct',\n",
       "  'Incident_Classification',\n",
       "  'Cause_Fire_Description',\n",
       "  'Fire_Code_Category']]"
      ]
     },
     "execution_count": 21,
     "metadata": {},
     "output_type": "execute_result"
    }
   ],
   "source": [
    "columns = [list(fire)]\n",
    "columns"
   ]
  },
  {
   "cell_type": "code",
   "execution_count": 24,
   "metadata": {},
   "outputs": [
    {
     "name": "stdout",
     "output_type": "stream",
     "text": [
      "Brooklyn          9750\n",
      "Bronx             7269\n",
      "Manhattan         6895\n",
      "Queens            6839\n",
      "Staten Island     1634\n",
      "Outside of NYC      20\n",
      "Name: Borough, dtype: int64\n",
      "\n",
      "MD Residential Structure          14754\n",
      "PD Residential Structure           4638\n",
      "Vehicle                            2792\n",
      "Commercial Structure               2229\n",
      "Outside Rubbish                    1501\n",
      "Other                              1337\n",
      "Burn Notification                  1031\n",
      "MFA                                 549\n",
      "No Fire                             509\n",
      "Burn Notification (Albany)          452\n",
      "Garage/Shed                         355\n",
      "School                              235\n",
      "Brush                               162\n",
      "Transit                             145\n",
      "Manhole                             131\n",
      "Religious Structure                 122\n",
      "Government Structure                122\n",
      "Group Home                          118\n",
      "Hospital                            116\n",
      "Hotel                                99\n",
      "Public Structure                     83\n",
      "Sidewalk                             54\n",
      "Street                               50\n",
      "Boat                                 45\n",
      "Transformer                          37\n",
      "Miscellaneous                        33\n",
      "Public Hallway                       32\n",
      "Nursing Home                         31\n",
      "Possible Single Room Occupancy       17\n",
      "Threat to Burn                       16\n",
      "Construction Trailer                 15\n",
      "Construction Vehicle                  8\n",
      "Aircraft                              6\n",
      "Name: Incident_Classification, dtype: int64\n",
      "\n",
      "Preliminary Investigation Only       6462\n",
      "Incendiary                           4090\n",
      "Smoking (Cigarette/Cigar)            3706\n",
      "Electrical Wiring                    2663\n",
      "Incendiary - Combustible Material    2315\n",
      "                                     ... \n",
      "Portable Heater - Propane               2\n",
      "Juvenile Firesetter School Visit        2\n",
      "Stove - Coal                            2\n",
      "Stove - Propane                         1\n",
      "Natural Sources                         1\n",
      "Name: Cause_Fire_Description, Length: 133, dtype: int64\n",
      "\n",
      "Other                   9110\n",
      "Incendiary              7191\n",
      "Electrical              4631\n",
      "Smoking                 3707\n",
      "Open Flame              1659\n",
      "No Fire                 1494\n",
      "Cooking Carelessness    1451\n",
      "Hot Objects             1279\n",
      "Appliances               762\n",
      "Motors                   417\n",
      "Heaters                  334\n",
      "Ignitable                233\n",
      "Natural Sources          181\n",
      "Electrical Devices        61\n",
      "Name: Fire_Code_Category, dtype: int64\n",
      "\n"
     ]
    }
   ],
   "source": [
    "columns = ['Borough',  \n",
    "  'Incident_Classification',\n",
    "  'Cause_Fire_Description',\n",
    "  'Fire_Code_Category']\n",
    "for x in columns:\n",
    "    print(fire[x].value_counts())\n",
    "    print()"
   ]
  },
  {
   "cell_type": "markdown",
   "metadata": {},
   "source": [
    "There is way too many categories in \"Cause_Fire_Description\" to use it for pivot table, but I can work with \"Fire_Code_Category\" or even \"Incident_Classification\". "
   ]
  },
  {
   "cell_type": "markdown",
   "metadata": {},
   "source": [
    "MD Residential Structure          14754\n",
    "PD Residential Structure           4638\n",
    "I wander what does it stand for: MD vs PD. There is no explanation in data dictionary.."
   ]
  },
  {
   "cell_type": "markdown",
   "metadata": {},
   "source": [
    "I want to work with year 2020 first to see what are the trends with fire emergencies through out the year"
   ]
  },
  {
   "cell_type": "code",
   "execution_count": 61,
   "metadata": {},
   "outputs": [],
   "source": [
    "fire_2019 = fire[fire[\"Case_Year\"] == 2019]\n",
    "fire_2020 = fire[fire[\"Case_Year\"] == 2020]"
   ]
  },
  {
   "cell_type": "markdown",
   "metadata": {},
   "source": [
    "### cleaning data\n",
    "Let's check the data set"
   ]
  },
  {
   "cell_type": "code",
   "execution_count": 62,
   "metadata": {},
   "outputs": [
    {
     "data": {
      "text/plain": [
       "Case_Year                    0\n",
       "Incident_DateTime            0\n",
       "Borough                      0\n",
       "Battalion                  720\n",
       "Community_District           0\n",
       "Precinct                     0\n",
       "Incident_Classification      2\n",
       "Cause_Fire_Description       0\n",
       "Fire_Code_Category           1\n",
       "dtype: int64"
      ]
     },
     "execution_count": 62,
     "metadata": {},
     "output_type": "execute_result"
    }
   ],
   "source": [
    "fire_2020.isnull().sum()\n",
    "# only batalion is missing which is not gonna affect my findings\n",
    "# two are missing for Incident classification and one for fire code category"
   ]
  },
  {
   "cell_type": "code",
   "execution_count": 45,
   "metadata": {},
   "outputs": [
    {
     "data": {
      "text/html": [
       "<div>\n",
       "<style scoped>\n",
       "    .dataframe tbody tr th:only-of-type {\n",
       "        vertical-align: middle;\n",
       "    }\n",
       "\n",
       "    .dataframe tbody tr th {\n",
       "        vertical-align: top;\n",
       "    }\n",
       "\n",
       "    .dataframe thead th {\n",
       "        text-align: right;\n",
       "    }\n",
       "</style>\n",
       "<table border=\"1\" class=\"dataframe\">\n",
       "  <thead>\n",
       "    <tr style=\"text-align: right;\">\n",
       "      <th></th>\n",
       "      <th>Case_Year</th>\n",
       "      <th>Incident_DateTime</th>\n",
       "      <th>Borough</th>\n",
       "      <th>Battalion</th>\n",
       "      <th>Community_District</th>\n",
       "      <th>Precinct</th>\n",
       "      <th>Incident_Classification</th>\n",
       "      <th>Cause_Fire_Description</th>\n",
       "      <th>Fire_Code_Category</th>\n",
       "    </tr>\n",
       "  </thead>\n",
       "  <tbody>\n",
       "    <tr>\n",
       "      <td>32046</td>\n",
       "      <td>2020</td>\n",
       "      <td>11/15/2020 08:51:17 PM</td>\n",
       "      <td>Manhattan</td>\n",
       "      <td>07</td>\n",
       "      <td>04</td>\n",
       "      <td>010</td>\n",
       "      <td>NaN</td>\n",
       "      <td>Preliminary Investigation Only</td>\n",
       "      <td>Other</td>\n",
       "    </tr>\n",
       "    <tr>\n",
       "      <td>32432</td>\n",
       "      <td>2020</td>\n",
       "      <td>12/25/2020 10:17:54 AM</td>\n",
       "      <td>Brooklyn</td>\n",
       "      <td>44</td>\n",
       "      <td>05</td>\n",
       "      <td>075</td>\n",
       "      <td>NaN</td>\n",
       "      <td>Preliminary Investigation Only</td>\n",
       "      <td>Other</td>\n",
       "    </tr>\n",
       "  </tbody>\n",
       "</table>\n",
       "</div>"
      ],
      "text/plain": [
       "       Case_Year       Incident_DateTime    Borough Battalion  \\\n",
       "32046       2020  11/15/2020 08:51:17 PM  Manhattan        07   \n",
       "32432       2020  12/25/2020 10:17:54 AM   Brooklyn        44   \n",
       "\n",
       "      Community_District Precinct Incident_Classification  \\\n",
       "32046                 04      010                     NaN   \n",
       "32432                 05      075                     NaN   \n",
       "\n",
       "               Cause_Fire_Description Fire_Code_Category  \n",
       "32046  Preliminary Investigation Only              Other  \n",
       "32432  Preliminary Investigation Only              Other  "
      ]
     },
     "execution_count": 45,
     "metadata": {},
     "output_type": "execute_result"
    }
   ],
   "source": [
    "fire_2020[fire_2020[\"Incident_Classification\"].isnull()]"
   ]
  },
  {
   "cell_type": "markdown",
   "metadata": {},
   "source": [
    "I will replace this data with the most common classificatin for this particular Couse Fire Description"
   ]
  },
  {
   "cell_type": "code",
   "execution_count": 63,
   "metadata": {},
   "outputs": [
    {
     "data": {
      "text/plain": [
       "'MD Residential Structure'"
      ]
     },
     "execution_count": 63,
     "metadata": {},
     "output_type": "execute_result"
    }
   ],
   "source": [
    "mode_fire_description= fire[fire[\"Cause_Fire_Description\"] == \"Preliminary Investigation Only\"][\"Incident_Classification\"].mode()\n",
    "mode_fire_description[0]"
   ]
  },
  {
   "cell_type": "code",
   "execution_count": 64,
   "metadata": {},
   "outputs": [],
   "source": [
    "fire_2020[\"Incident_Classification\"].fillna(mode_fire_description[0], inplace =True)"
   ]
  },
  {
   "cell_type": "code",
   "execution_count": 65,
   "metadata": {},
   "outputs": [
    {
     "data": {
      "text/html": [
       "<div>\n",
       "<style scoped>\n",
       "    .dataframe tbody tr th:only-of-type {\n",
       "        vertical-align: middle;\n",
       "    }\n",
       "\n",
       "    .dataframe tbody tr th {\n",
       "        vertical-align: top;\n",
       "    }\n",
       "\n",
       "    .dataframe thead th {\n",
       "        text-align: right;\n",
       "    }\n",
       "</style>\n",
       "<table border=\"1\" class=\"dataframe\">\n",
       "  <thead>\n",
       "    <tr style=\"text-align: right;\">\n",
       "      <th></th>\n",
       "      <th>Case_Year</th>\n",
       "      <th>Incident_DateTime</th>\n",
       "      <th>Borough</th>\n",
       "      <th>Battalion</th>\n",
       "      <th>Community_District</th>\n",
       "      <th>Precinct</th>\n",
       "      <th>Incident_Classification</th>\n",
       "      <th>Cause_Fire_Description</th>\n",
       "      <th>Fire_Code_Category</th>\n",
       "    </tr>\n",
       "  </thead>\n",
       "  <tbody>\n",
       "    <tr>\n",
       "      <td>31978</td>\n",
       "      <td>2020</td>\n",
       "      <td>11/09/2020 10:06:34 PM</td>\n",
       "      <td>Manhattan</td>\n",
       "      <td>09</td>\n",
       "      <td>05</td>\n",
       "      <td>018</td>\n",
       "      <td>Manhole</td>\n",
       "      <td>Preliminary Investigation Only</td>\n",
       "      <td>NaN</td>\n",
       "    </tr>\n",
       "  </tbody>\n",
       "</table>\n",
       "</div>"
      ],
      "text/plain": [
       "       Case_Year       Incident_DateTime    Borough Battalion  \\\n",
       "31978       2020  11/09/2020 10:06:34 PM  Manhattan        09   \n",
       "\n",
       "      Community_District Precinct Incident_Classification  \\\n",
       "31978                 05      018                 Manhole   \n",
       "\n",
       "               Cause_Fire_Description Fire_Code_Category  \n",
       "31978  Preliminary Investigation Only                NaN  "
      ]
     },
     "execution_count": 65,
     "metadata": {},
     "output_type": "execute_result"
    }
   ],
   "source": [
    "fire_2020[fire_2020[\"Fire_Code_Category\"].isnull()]"
   ]
  },
  {
   "cell_type": "code",
   "execution_count": 66,
   "metadata": {},
   "outputs": [
    {
     "data": {
      "text/plain": [
       "0    Other\n",
       "dtype: object"
      ]
     },
     "execution_count": 66,
     "metadata": {},
     "output_type": "execute_result"
    }
   ],
   "source": [
    "mode_fire_category= fire[fire[\"Incident_Classification\"] == \"Manhole\"][\"Fire_Code_Category\"].mode()\n",
    "mode_fire_category"
   ]
  },
  {
   "cell_type": "code",
   "execution_count": 67,
   "metadata": {},
   "outputs": [
    {
     "data": {
      "text/plain": [
       "'Other'"
      ]
     },
     "execution_count": 67,
     "metadata": {},
     "output_type": "execute_result"
    }
   ],
   "source": [
    "mode_fire_category[0]"
   ]
  },
  {
   "cell_type": "code",
   "execution_count": 68,
   "metadata": {},
   "outputs": [],
   "source": [
    "fire_2020[\"Fire_Code_Category\"].fillna(mode_fire_category[0], inplace = True)"
   ]
  },
  {
   "cell_type": "code",
   "execution_count": 69,
   "metadata": {},
   "outputs": [
    {
     "data": {
      "text/plain": [
       "Case_Year                    0\n",
       "Incident_DateTime            0\n",
       "Borough                      0\n",
       "Battalion                  720\n",
       "Community_District           0\n",
       "Precinct                     0\n",
       "Incident_Classification      0\n",
       "Cause_Fire_Description       0\n",
       "Fire_Code_Category           0\n",
       "dtype: int64"
      ]
     },
     "execution_count": 69,
     "metadata": {},
     "output_type": "execute_result"
    }
   ],
   "source": [
    "fire_2020.isnull().sum()\n",
    "# all is good now"
   ]
  },
  {
   "cell_type": "markdown",
   "metadata": {},
   "source": [
    "### data analysis"
   ]
  },
  {
   "cell_type": "markdown",
   "metadata": {},
   "source": [
    "### 1. What object was the source of the fire emergency by the borough"
   ]
  },
  {
   "cell_type": "code",
   "execution_count": 91,
   "metadata": {},
   "outputs": [],
   "source": [
    "heatmap_data_2020 = fire_2020.pivot_table(index = \"Incident_Classification\", columns = \"Borough\", values = \"Incident_DateTime\", aggfunc=len, fill_value=0)\n"
   ]
  },
  {
   "cell_type": "code",
   "execution_count": 90,
   "metadata": {},
   "outputs": [
    {
     "data": {
      "image/png": "[encoded data removed]",
      "text/plain": [
       "<Figure size 864x1080 with 2 Axes>"
      ]
     },
     "metadata": {
      "needs_background": "light"
     },
     "output_type": "display_data"
    }
   ],
   "source": [
    "plt.figure(figsize = (12,15))\n",
    "catskill_displ=sns.heatmap(heatmap_data_2020,  fmt=\".0f\" , annot=True, cmap=\"YlGnBu\", linewidth=.03)\n",
    "plt.title(\"Main couses for fires in NYC in 2020\", size=20)\n",
    "plt.show()"
   ]
  },
  {
   "cell_type": "markdown",
   "metadata": {},
   "source": []
  }
 ],
 "metadata": {
  "kernelspec": {
   "display_name": "Python 3",
   "language": "python",
   "name": "python3"
  },
  "language_info": {
   "codemirror_mode": {
    "name": "ipython",
    "version": 3
   },
   "file_extension": ".py",
   "mimetype": "text/x-python",
   "name": "python",
   "nbconvert_exporter": "python",
   "pygments_lexer": "ipython3",
   "version": "3.7.4"
  }
 },
 "nbformat": 4,
 "nbformat_minor": 2
}
