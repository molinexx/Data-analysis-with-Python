{
 "cells": [
  {
   "cell_type": "code",
   "execution_count": 1,
   "metadata": {},
   "outputs": [],
   "source": [
    "import pandas as pd"
   ]
  },
  {
   "cell_type": "code",
   "execution_count": 2,
   "metadata": {},
   "outputs": [],
   "source": [
    "fire_311 = pd.read_csv(r\"C:\\Users\\Maryla\\Desktop\\MY_PROJECTS\\excel files\\nyc_fire_311.csv\")"
   ]
  },
  {
   "cell_type": "code",
   "execution_count": 3,
   "metadata": {},
   "outputs": [
    {
     "data": {
      "text/html": [
       "<div>\n",
       "<style scoped>\n",
       "    .dataframe tbody tr th:only-of-type {\n",
       "        vertical-align: middle;\n",
       "    }\n",
       "\n",
       "    .dataframe tbody tr th {\n",
       "        vertical-align: top;\n",
       "    }\n",
       "\n",
       "    .dataframe thead th {\n",
       "        text-align: right;\n",
       "    }\n",
       "</style>\n",
       "<table border=\"1\" class=\"dataframe\">\n",
       "  <thead>\n",
       "    <tr style=\"text-align: right;\">\n",
       "      <th></th>\n",
       "      <th>Case_Year</th>\n",
       "      <th>Incident_DateTime</th>\n",
       "      <th>Borough</th>\n",
       "      <th>Battalion</th>\n",
       "      <th>Community_District</th>\n",
       "      <th>Precinct</th>\n",
       "      <th>Incident_Classification</th>\n",
       "      <th>Cause_Fire_Description</th>\n",
       "      <th>Fire_Code_Category</th>\n",
       "      <th>District_Full_Description</th>\n",
       "    </tr>\n",
       "  </thead>\n",
       "  <tbody>\n",
       "    <tr>\n",
       "      <td>0</td>\n",
       "      <td>2016</td>\n",
       "      <td>01/01/2016 12:08:00 AM</td>\n",
       "      <td>Queens</td>\n",
       "      <td>50</td>\n",
       "      <td>08</td>\n",
       "      <td>107</td>\n",
       "      <td>MD Residential Structure</td>\n",
       "      <td>Smoking (Cigarette/Cigar)</td>\n",
       "      <td>Smoking</td>\n",
       "      <td>08Queens</td>\n",
       "    </tr>\n",
       "    <tr>\n",
       "      <td>1</td>\n",
       "      <td>2016</td>\n",
       "      <td>01/01/2016 12:13:00 AM</td>\n",
       "      <td>Staten Island</td>\n",
       "      <td>21</td>\n",
       "      <td>02</td>\n",
       "      <td>122</td>\n",
       "      <td>PD Residential Structure</td>\n",
       "      <td>Incendiary - Combustible Material</td>\n",
       "      <td>Incendiary</td>\n",
       "      <td>02Staten Island</td>\n",
       "    </tr>\n",
       "    <tr>\n",
       "      <td>2</td>\n",
       "      <td>2016</td>\n",
       "      <td>01/01/2016 12:21:00 AM</td>\n",
       "      <td>Queens</td>\n",
       "      <td>37</td>\n",
       "      <td>05</td>\n",
       "      <td>104</td>\n",
       "      <td>MD Residential Structure</td>\n",
       "      <td>Incendiary - Combustible Material</td>\n",
       "      <td>Incendiary</td>\n",
       "      <td>05Queens</td>\n",
       "    </tr>\n",
       "    <tr>\n",
       "      <td>3</td>\n",
       "      <td>2016</td>\n",
       "      <td>01/01/2016 12:29:00 AM</td>\n",
       "      <td>Bronx</td>\n",
       "      <td>15</td>\n",
       "      <td>12</td>\n",
       "      <td>047</td>\n",
       "      <td>Burn Notification (Albany)</td>\n",
       "      <td>Albany Burn Notif. Unrelated to a Fire/Explosion</td>\n",
       "      <td>Other</td>\n",
       "      <td>12Bronx</td>\n",
       "    </tr>\n",
       "    <tr>\n",
       "      <td>4</td>\n",
       "      <td>2016</td>\n",
       "      <td>01/01/2016 12:32:00 AM</td>\n",
       "      <td>Queens</td>\n",
       "      <td>50</td>\n",
       "      <td>12</td>\n",
       "      <td>103</td>\n",
       "      <td>PD Residential Structure</td>\n",
       "      <td>Incendiary - Combustible Material</td>\n",
       "      <td>Incendiary</td>\n",
       "      <td>12Queens</td>\n",
       "    </tr>\n",
       "  </tbody>\n",
       "</table>\n",
       "</div>"
      ],
      "text/plain": [
       "   Case_Year       Incident_DateTime        Borough Battalion  \\\n",
       "0       2016  01/01/2016 12:08:00 AM         Queens        50   \n",
       "1       2016  01/01/2016 12:13:00 AM  Staten Island        21   \n",
       "2       2016  01/01/2016 12:21:00 AM         Queens        37   \n",
       "3       2016  01/01/2016 12:29:00 AM          Bronx        15   \n",
       "4       2016  01/01/2016 12:32:00 AM         Queens        50   \n",
       "\n",
       "  Community_District Precinct     Incident_Classification  \\\n",
       "0                 08      107    MD Residential Structure   \n",
       "1                 02      122    PD Residential Structure   \n",
       "2                 05      104    MD Residential Structure   \n",
       "3                 12      047  Burn Notification (Albany)   \n",
       "4                 12      103    PD Residential Structure   \n",
       "\n",
       "                             Cause_Fire_Description Fire_Code_Category  \\\n",
       "0                         Smoking (Cigarette/Cigar)            Smoking   \n",
       "1                 Incendiary - Combustible Material         Incendiary   \n",
       "2                 Incendiary - Combustible Material         Incendiary   \n",
       "3  Albany Burn Notif. Unrelated to a Fire/Explosion              Other   \n",
       "4                 Incendiary - Combustible Material         Incendiary   \n",
       "\n",
       "  District_Full_Description  \n",
       "0                  08Queens  \n",
       "1           02Staten Island  \n",
       "2                  05Queens  \n",
       "3                   12Bronx  \n",
       "4                  12Queens  "
      ]
     },
     "execution_count": 3,
     "metadata": {},
     "output_type": "execute_result"
    }
   ],
   "source": [
    "fire_311.head()"
   ]
  },
  {
   "cell_type": "code",
   "execution_count": 9,
   "metadata": {},
   "outputs": [
    {
     "data": {
      "text/plain": [
       "Case_Year                     int64\n",
       "Incident_DateTime            object\n",
       "Borough                      object\n",
       "Battalion                    object\n",
       "Community_District           object\n",
       "Precinct                     object\n",
       "Incident_Classification      object\n",
       "Cause_Fire_Description       object\n",
       "Fire_Code_Category           object\n",
       "District_Full_Description    object\n",
       "dtype: object"
      ]
     },
     "execution_count": 9,
     "metadata": {},
     "output_type": "execute_result"
    }
   ],
   "source": [
    "fire_311.dtypes"
   ]
  },
  {
   "cell_type": "code",
   "execution_count": null,
   "metadata": {},
   "outputs": [],
   "source": []
  }
 ],
 "metadata": {
  "kernelspec": {
   "display_name": "Python 3",
   "language": "python",
   "name": "python3"
  },
  "language_info": {
   "codemirror_mode": {
    "name": "ipython",
    "version": 3
   },
   "file_extension": ".py",
   "mimetype": "text/x-python",
   "name": "python",
   "nbconvert_exporter": "python",
   "pygments_lexer": "ipython3",
   "version": "3.7.4"
  }
 },
 "nbformat": 4,
 "nbformat_minor": 2
}
